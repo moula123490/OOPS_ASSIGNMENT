{
  "nbformat": 4,
  "nbformat_minor": 0,
  "metadata": {
    "colab": {
      "provenance": []
    },
    "kernelspec": {
      "name": "python3",
      "display_name": "Python 3"
    },
    "language_info": {
      "name": "python"
    }
  },
  "cells": [
    {
      "cell_type": "markdown",
      "source": [
        "**Theoritical Questions**"
      ],
      "metadata": {
        "id": "zg4CLrbjQ9eH"
      }
    },
    {
      "cell_type": "markdown",
      "source": [
        "1) What is Object-Oriented Programming (OOP)?\n",
        "- OOPS is called as object oriented programming system and it deals with the objects and classes in python"
      ],
      "metadata": {
        "id": "mR3BLt8iRmWT"
      }
    },
    {
      "cell_type": "markdown",
      "source": [
        "2) What is a class in OOP?\n",
        "- In python everything is an object so obviously class is also a object\n",
        "- class is the blueprint/model to build the object/instance related data and behaviors/methods of an entity/object and to build decarators as well - simply it is the blueprint to create the methods and data for all the objects"
      ],
      "metadata": {
        "id": "w-bJQujRTGyj"
      }
    },
    {
      "cell_type": "markdown",
      "source": [
        "3) What is an object in OOP?\n",
        "- A real world entity and physical existance of a class, it deals with the methods and attributes in the class which are associated with it.\n",
        "-we can create any number of objects and when created the object it will be stored in the memory we can access the object data and methods by using reference varaiables."
      ],
      "metadata": {
        "id": "13DF33EmUAsD"
      }
    },
    {
      "cell_type": "markdown",
      "source": [
        "4) What is the difference between abstraction and encapsulation?\n",
        "- abstraction means it hides the complex implementation of the code and exposes what is necessary to the user. it simplifies the usage and shields the user from internal complexity\n",
        "- Bundles data and methods into a class, hiding internal details and exposing a controlled public interface. This guards against unintended access and misuse"
      ],
      "metadata": {
        "id": "80mVK9wlVuMq"
      }
    },
    {
      "cell_type": "markdown",
      "source": [
        "5) What are dunder methods in Python?\n",
        "- Dunder methods are the magic/special methods which are prefixed and suffexid with double underscore(__init,__new__).\n",
        "- Dunder methods are used to get the data from attributes/methods as per the programmers wish which may be like the data should be like,string form , and length etc...\n",
        "- these are built in functions for our own object we create we can manipulate the objects data by using dunder methods\n",
        "\n",
        "- examples:(__str__,__new__,__call__,__len__,__add__,__dict__)"
      ],
      "metadata": {
        "id": "hBZBtOB4hStq"
      }
    },
    {
      "cell_type": "markdown",
      "source": [
        "6)  Explain the concept of inheritance in OOP?\n",
        "- Inheritance is a core python oop mechanism where a child/subclass inherits methods and attributes from the base/super/parent class unless subclass overrides parent class.\n",
        "\n",
        "- single level inheritance:relation between only one child and one parent\n",
        "- multilevel inheritance: a chain of inheritance like grandfather to father then child(A-->B-->C)\n",
        "-multiple inheritance: one subclass inherits from multiple superclasses\n",
        "-Hierarchical Inheritance: multiple subclasses inherits from single parent class\n",
        "- hybrid inheritance: combining all of the above levels."
      ],
      "metadata": {
        "id": "9wXGUD9vjIAT"
      }
    },
    {
      "cell_type": "markdown",
      "source": [
        "7) What is polymorphism in OOP?\n",
        "- Polymorphism is a core python oop mechanism poly means many and phism means forms simple it means a same method which change the forms based on the user input parameters and gives the result.\n",
        "\n",
        "- eg: operator polymorphism(operator overloading)\n",
        "                print('shaik'+'moulali')==>shaik moulali\n",
        "                print(1+2)==>3\n",
        "                print([1,2]+[3,4])==>[1,2,3,4]\n",
        "                print((1,2,3)+(4,5,6))==>(1,2,3,4,5,6)\n",
        "\n",
        "                or\n",
        "\n",
        "                def add(a,b):\n",
        "                  return (a+b)\n",
        "                \n",
        "                add(1,2)==>3\n",
        "                add(\"shaik\"+\"moulali\")==>shaik moulali\n",
        "                add([1,2]+[3,4])==>[1,2,3,4]"
      ],
      "metadata": {
        "id": "HvWu7OGun3ZJ"
      }
    },
    {
      "cell_type": "markdown",
      "source": [
        "8) How is encapsulation achieved in Python?\n",
        "- Encapsulation is nothing but wrapping up the data and behaviour of the objects in a single unit.\n",
        "\n",
        "- we can achive Encapsulation by making the attributes and methods as private(__a), protected(_a) and public.\n",
        "- we are doing data hiding with private and protected from the external users where it can be potential to change our data."
      ],
      "metadata": {
        "id": "5g8a7wvEqjeh"
      }
    },
    {
      "cell_type": "markdown",
      "source": [
        "9) What is a constructor in Python?\n",
        "- constructor is a special method whose first argument is always be the self in case of __init__ and in case of __new__ the first argument is cls and it refers to the class itself.\n",
        "\n",
        "- generally with constructor we can initialize the object's attributes. and while creating an object the constructor method automatically called and initializes the object's attributes."
      ],
      "metadata": {
        "id": "xnxgChrMs6Gd"
      }
    },
    {
      "cell_type": "markdown",
      "source": [
        "10) What are class and static methods in Python?\n",
        "- A class method is a method which is only related to the class itself and it doesnot manipulate any instance varaiables and for a class method the first argument is always be the cls only means it refers to the class level object.\n",
        "- a class method is declared by using the @classmethod decorator.\n",
        "\n",
        "- A static method is a method which does not interact with any instance and class variables or methods it simple a general method and additionally this method is no way related to obect and class. simple it is a general utily method written in a class by using @staticmethod decarator."
      ],
      "metadata": {
        "id": "flrjtYeiuVqV"
      }
    },
    {
      "cell_type": "markdown",
      "source": [
        "11)What is method overloading in Python?\n",
        "\n",
        "- When a same name function/method defined with different arguments it will comes under as method overloading but python will not support method overloading but even if you provide the different parameters in a class python overrides with most recent method with previous methods.\n",
        "- to achieve method overloading in python we can use default arguments and varaible length arguments.\n",
        "     "
      ],
      "metadata": {
        "id": "4LpAMUcvvmrw"
      }
    },
    {
      "cell_type": "markdown",
      "source": [
        "12) What is method overriding in OOP?\n",
        "- Method overriding happens when a sub class is having the same method which is also present in the baseclass. and subclass overrides/rewrites the method which is present in the parent class. overriding rule is the subclass must have same method name and same no'of signatures as of parent class.\n",
        "- when sub class method is invoked then values which is going to be get is from subclass only."
      ],
      "metadata": {
        "id": "wnbCZ4sSxFVe"
      }
    },
    {
      "cell_type": "markdown",
      "source": [
        "13) What is a property decorator in Python?\n",
        "- A property decorator is used to call the method as attribute allowing it to be accessed as a plain attribute\n",
        "- so while making method as property decorator we should use @property decorator"
      ],
      "metadata": {
        "id": "zbjGBmUTygoi"
      }
    },
    {
      "cell_type": "markdown",
      "source": [
        "14) Why is polymorphism important in ООР?\n",
        "- Polymorphism is vital in object‑oriented programming (OOP) because it empowers your code with flexibility, reusability, maintainability, and clean design\n",
        "- code reusability: we can define common operations once in a base class and we can use them in sub class many times so it enhances code reusability\n",
        "- Flexibility & Extensibility: we can add new subclasses as many we want and we can implement the extension code of base classes without touching them.\n",
        "- Better Code Organization:if we want to redefine/change the code for the specific usage purpose we can override the code in subclass and make changes of code then our code becomes cleaner and modular."
      ],
      "metadata": {
        "id": "VO503381zTFz"
      }
    },
    {
      "cell_type": "markdown",
      "source": [
        "15) What is an abstract class in Python?\n",
        "- A class is said to be abstract class which contain atleast one Abstract method. by default python wont support a class to be abstract so, we have achieve this by import ABC(abstract base class) module."
      ],
      "metadata": {
        "id": "q6M0TkMfJSuI"
      }
    },
    {
      "cell_type": "markdown",
      "source": [
        "16) What are the advantages of OOP?\n",
        "- It increases the security and maintainability by encapsulate the data and methods of an object.\n",
        "- We can share the methods to sub classes from base classes and rewrites the code if it doest not looks good by implementing the inheritance concept.\n",
        "- it suports flexibility with polymorphism\n",
        "- oop can hide the complex data and expose only necessary data to the user by implementing abstraction."
      ],
      "metadata": {
        "id": "rXdgxUfaZDmH"
      }
    },
    {
      "cell_type": "markdown",
      "source": [
        "17) What is the difference between a class variable and an instance variable?\n",
        "- A varaible which is defined inside a class is called as class variable and and it can access class level only by using class_name.variable_name\n",
        "- A variable which defined inside the constructor with self.variable_name is called as instance variable these varaibles are used to refer the object data."
      ],
      "metadata": {
        "id": "L2RAnuvgcYO0"
      }
    },
    {
      "cell_type": "markdown",
      "source": [
        "18) What is multiple inheritance in Python?\n",
        "- when a subclass inherits methods and properties from more than one base class then it will be comes under mutiple inheritance.\n",
        "- basically, in mutiple inheritance a child class inherits from two parent classes.\n",
        "             - example:\n",
        "               class A:\n",
        "                  -------\n",
        "               class B:\n",
        "                  --------\n",
        "               class C(A,B):\n",
        "                ---\n",
        "               obj=C()"
      ],
      "metadata": {
        "id": "FYSyRdxJd1ae"
      }
    },
    {
      "cell_type": "markdown",
      "source": [
        "19) Explain the purpose of ‘’__str__’ and ‘__repr__’ ‘ methods in Python?\n",
        "- first of all these __str__ and __repr__ are magic/ dunder methods which are used to custom our objects data.\n",
        "- __str__ magic method is used to represent the object data in the form of string format and it is redable and user freindly.\n",
        "- __repr__  method is used to represent the object data in the form of descriptive string format and used by developers/debuggers mostly.\n",
        "               class b:\n",
        "               def __init__(self,name):\n",
        "                 self.name=name\n",
        "                 def __repr__(self):\n",
        "                    return f\"(name={self.name!r})\"\n",
        "                  def __str__(self):\n",
        "                     return f\"my name is {self.name}\"\n",
        "                   obj=b(\"shaik\")\n",
        "                   repr(obj)"
      ],
      "metadata": {
        "id": "wOlPRMVDfE5i"
      }
    },
    {
      "cell_type": "markdown",
      "source": [
        "20)  What is the significance of the ‘super()’ function in Python?\n",
        "- super() is used in inheritance concept, super() is used when we want the parent(properties and methods) in the child/sub class then simply we can use super().__init__(parameters)--for constructor method\n",
        "for normal methods super().method_name()\n",
        "- using of super() in subclasses code reusability happens.and it minimizes the lines of code and duplication\n",
        "- below is the example about usage of super()."
      ],
      "metadata": {
        "id": "WDXO58SBjPWY"
      }
    },
    {
      "cell_type": "code",
      "source": [
        "# example of super() keyword usage in subclass.\n",
        "\n",
        "class student():\n",
        "  def __init__(self,name,age):\n",
        "    self.name=name\n",
        "    self.age=age\n",
        "\n",
        "  def display(self):\n",
        "    print(f\"my name is {self.name}\")\n",
        "    print(f\"my age is {self.age}\")\n",
        "class Teacher(student):\n",
        "  def __init__(self,name,age,subject):\n",
        "    super().__init__(name,age)\n",
        "    self.subject=subject\n",
        "  @property\n",
        "  def display(self):\n",
        "    super().display()\n",
        "    print(f\"my subject is {self.subject}\")\n",
        "\n",
        "obj=Teacher(\"shaik\",25,\"Python\")\n",
        "\n",
        "obj.display"
      ],
      "metadata": {
        "colab": {
          "base_uri": "https://localhost:8080/"
        },
        "id": "we39D3if_Ldf",
        "outputId": "a0aba9c1-d50e-475b-bd44-a94ad4d708f1"
      },
      "execution_count": null,
      "outputs": [
        {
          "output_type": "stream",
          "name": "stdout",
          "text": [
            "my name is shaik\n",
            "my age is 25\n",
            "my subject is Python\n"
          ]
        }
      ]
    },
    {
      "cell_type": "markdown",
      "source": [
        "21)  What is the significance of the __del__ method in Python?\n",
        "- __del__ is a magic method it will be executed implicitly and prints the passed statement whenever we are deleting the object method/ attribute."
      ],
      "metadata": {
        "id": "tfs-Ir1vljyR"
      }
    },
    {
      "cell_type": "code",
      "source": [
        "class A:\n",
        "  def __del__(self):\n",
        "    print(\"object method has been deleted\")\n",
        "obj=A()\n",
        "del obj\n"
      ],
      "metadata": {
        "colab": {
          "base_uri": "https://localhost:8080/"
        },
        "id": "iLJn7jr4mDQK",
        "outputId": "6e10c0ea-1c8e-41c6-983e-8dcf263d54a5"
      },
      "execution_count": null,
      "outputs": [
        {
          "output_type": "stream",
          "name": "stdout",
          "text": [
            "object method has been deleted\n"
          ]
        }
      ]
    },
    {
      "cell_type": "markdown",
      "source": [
        "22) What is the difference between @staticmethod and @classmethod in Python?\n",
        "- Static method is general utility method which does not have any instance variables and class level variables it is nothing to do with objects and classes simply it is a method which is written in the class.\n",
        "- classmethod is related to manipulate class level related data which are stored in class level object by using reference varaible cls and this method decorated with @classmethod is bound to the class, not to a specific instance. It receives the class (cls) as its first argument, instead of self"
      ],
      "metadata": {
        "id": "Q6U3WZNCoWJL"
      }
    },
    {
      "cell_type": "code",
      "source": [
        "class A: #static method implementation\n",
        "  @staticmethod\n",
        "  def add(a,b):\n",
        "    return a+b\n",
        "obj=A()\n",
        "obj.add(2,3)\n",
        "\n",
        "####################################\n",
        "\n",
        "class B:#class method implementation\n",
        "  a=int(input(\"enter any intiger here \"))\n",
        "  b=int(input(\"enter any intiger here \"))\n",
        "\n",
        "  @classmethod\n",
        "  def add(cls):\n",
        "    return cls.a+cls.b\n",
        "B.add()\n"
      ],
      "metadata": {
        "colab": {
          "base_uri": "https://localhost:8080/"
        },
        "id": "iIaFPTXvo1t0",
        "outputId": "1c4f996d-0491-44bd-8275-deb6a4052c5a"
      },
      "execution_count": null,
      "outputs": [
        {
          "name": "stdout",
          "output_type": "stream",
          "text": [
            "enter any intiger here 3\n",
            "enter any intiger here 4\n"
          ]
        },
        {
          "output_type": "execute_result",
          "data": {
            "text/plain": [
              "7"
            ]
          },
          "metadata": {},
          "execution_count": 45
        }
      ]
    },
    {
      "cell_type": "markdown",
      "source": [
        "23)  How does polymorphism work in Python with inheritance?\n",
        "- polymorphism means changes it state based on the objects we passed as a parameter. or polymorphism is about calling the same method name on different types of objects, each implementing it differently.\n",
        "\n",
        "\n",
        "- so with inheritance when we write method in parent class with some code\n",
        "and with child class we inherit that method and changes the code  in different way as we like. so, here we are clearly changing the form of an method with redefining them hence we are using concept of polymorphism with inheritance."
      ],
      "metadata": {
        "id": "7P0ems0usNnl"
      }
    },
    {
      "cell_type": "markdown",
      "source": [
        "24) What is method chaining in Python OOP?\n",
        "- Method chaining allow us to call the methods sequentially on the same object in a single line via return self. This allows the next method to be invoked directly on the object."
      ],
      "metadata": {
        "id": "ThmaFAOcunAE"
      }
    },
    {
      "cell_type": "code",
      "source": [
        "class a:\n",
        "  def add(self,a,b):\n",
        "    print(f\"the addition of {a},{b} is {a+b}\")\n",
        "    return self\n",
        "  def sub(self,a,b):\n",
        "    print(f\"the subtraction of {a},{b} is {a-b}\")\n",
        "    return self\n",
        "  def mul(self,a,b):\n",
        "    print(f\"the multiplication of {a},{b} is {a*b}\")\n",
        "    return self\n",
        "obj=a()\n",
        "obj.add(3,4).sub(3,4).mul(3,4)"
      ],
      "metadata": {
        "colab": {
          "base_uri": "https://localhost:8080/"
        },
        "id": "8gqY8EnYw1Xi",
        "outputId": "ef0f0118-4324-40f2-c594-52f80a5d9cfe"
      },
      "execution_count": null,
      "outputs": [
        {
          "output_type": "stream",
          "name": "stdout",
          "text": [
            "the addition of 3,4 is 7\n",
            "the subtraction of 3,4 is -1\n",
            "the multiplication of 3,4 is 12\n"
          ]
        },
        {
          "output_type": "execute_result",
          "data": {
            "text/plain": [
              "<__main__.a at 0x7b91cc0ba6d0>"
            ]
          },
          "metadata": {},
          "execution_count": 49
        }
      ]
    },
    {
      "cell_type": "markdown",
      "source": [
        "25) What is the purpose of the __call__ method in Python?\n",
        "- __call__ method is magic/dunder method whenever the direct object is being called then this magic method automatically prints the statement inside the body."
      ],
      "metadata": {
        "id": "FFoSHTJH1nVT"
      }
    },
    {
      "cell_type": "code",
      "source": [
        "class A:\n",
        "  def __call__(self):\n",
        "    return \"call method has been executed after calling an object directly\"\n",
        "  def instance_method(self):\n",
        "    print(\"Hi\")\n",
        "\n",
        "obj=A()\n",
        "print(obj())\n"
      ],
      "metadata": {
        "colab": {
          "base_uri": "https://localhost:8080/"
        },
        "id": "9cO-zf2f2PFt",
        "outputId": "fe8bf329-39fd-4f9f-aba2-9753f15d739e"
      },
      "execution_count": null,
      "outputs": [
        {
          "output_type": "stream",
          "name": "stdout",
          "text": [
            "call method has been executed after calling an object directly\n"
          ]
        }
      ]
    },
    {
      "cell_type": "markdown",
      "source": [
        "**Practical Questions**"
      ],
      "metadata": {
        "id": "69iFuwrYf-Lq"
      }
    },
    {
      "cell_type": "code",
      "source": [
        "'''1)  Create a parent class Animal with a method speak() that prints a generic message. Create a child class Dog\n",
        "that overrides the speak() method to print \"Bark!\".'''\n",
        "\n",
        "class Animal():\n",
        "  def speak(self):\n",
        "    return \"Animal sound\"\n",
        "class Dog(Animal):\n",
        "  def speak(self):\n",
        "    return \"Bark!\"\n",
        "\n",
        "Obj=Dog()\n",
        "Obj.speak()\n",
        "\n",
        "\n"
      ],
      "metadata": {
        "colab": {
          "base_uri": "https://localhost:8080/",
          "height": 35
        },
        "id": "mxLy-9k-gBzo",
        "outputId": "1fe72fe1-5b5e-482f-c189-50459f394ef8"
      },
      "execution_count": null,
      "outputs": [
        {
          "output_type": "execute_result",
          "data": {
            "text/plain": [
              "'Bark!'"
            ],
            "application/vnd.google.colaboratory.intrinsic+json": {
              "type": "string"
            }
          },
          "metadata": {},
          "execution_count": 2
        }
      ]
    },
    {
      "cell_type": "code",
      "source": [
        "'''2) Write a program to create an abstract class Shape with a method area(). Derive classes Circle and Rectangle\n",
        "from it and implement the area() method in both.'''\n",
        "\n",
        "from abc import ABC,abstractmethod\n",
        "class Shape():\n",
        "  @abstractmethod\n",
        "  def area(self):\n",
        "    pass\n",
        "\n",
        "class Circle(Shape):\n",
        "  def __init__(self,radius):\n",
        "    self.radius=radius\n",
        "  def area(self):\n",
        "    return 3.14*self.radius*self.radius\n",
        "\n",
        "class Rectangle(Shape):\n",
        "  def __init__(self,length,breadth):\n",
        "    self.length=length\n",
        "    self.breadth=breadth\n",
        "  def area(self):\n",
        "    return self.length*self.breadth\n",
        "\n",
        "obj_circle=Circle(9)\n",
        "print(\"area of circle is ---> \",obj_circle.area())\n",
        "\n",
        "obj_Rectangle=Rectangle(8,4)\n",
        "print(\"area of Rectangle is ---> \",obj_Rectangle.area())\n",
        "\n",
        "\n",
        "\n",
        "\n"
      ],
      "metadata": {
        "colab": {
          "base_uri": "https://localhost:8080/"
        },
        "id": "liU55Z8hhLQt",
        "outputId": "02fbb919-8027-41de-ff52-5fa124eeea16"
      },
      "execution_count": null,
      "outputs": [
        {
          "output_type": "stream",
          "name": "stdout",
          "text": [
            "area of circle is --->  254.34\n",
            "area of Rectangle is --->  32\n"
          ]
        }
      ]
    },
    {
      "cell_type": "code",
      "source": [
        "'''3) Implement a multi-level inheritance scenario where a class Vehicle has an attribute type. Derive a class Car\n",
        "and further derive a class ElectricCar that adds a battery attribute.'''\n",
        "\n",
        "class Vehicle():\n",
        "  def __init__(self,speed):\n",
        "    self.speed=speed\n",
        "    print(\"the speed of the vehicle is ---> \",self.speed,\"m/s\")\n",
        "class Car(Vehicle):\n",
        "  def __init__(self,speed,wheels,color):\n",
        "    self.wheels=wheels\n",
        "    self.color=color\n",
        "    super().__init__(speed)\n",
        "    print(\"the car vehicle has --> \",self.wheels,\"wheels\")\n",
        "    print(\"the color of the car is ---> \",self.color)\n",
        "class ElectricCar(Car):\n",
        "  def __init__(self,speed,wheels,color,battery):\n",
        "    super().__init__(speed,wheels,color)\n",
        "    self.battery=battery\n",
        "    print(\"type of the battery is ---> \",self.battery)\n",
        "\n",
        "obj1=Vehicle(25)\n",
        "obj2=Car(25,4,\"Red color\")\n",
        "obj3=ElectricCar(25,4,\"red color\",\"Amaron\")\n",
        "\n",
        "#print(obj1.speed)\n",
        "#print(obj2.speed)\n",
        "print(obj3.__dict__)\n",
        "\n"
      ],
      "metadata": {
        "colab": {
          "base_uri": "https://localhost:8080/"
        },
        "id": "3lSQcqpRmkYz",
        "outputId": "39e5e286-304f-4aca-ca7a-776c34daa632"
      },
      "execution_count": null,
      "outputs": [
        {
          "output_type": "stream",
          "name": "stdout",
          "text": [
            "the speed of the vehicle is --->  25 m/s\n",
            "the speed of the vehicle is --->  25 m/s\n",
            "the car vehicle has -->  4 wheels\n",
            "the color of the car is --->  Red color\n",
            "the speed of the vehicle is --->  25 m/s\n",
            "the car vehicle has -->  4 wheels\n",
            "the color of the car is --->  red color\n",
            "type of the battery is --->  Amaron\n",
            "{'wheels': 4, 'color': 'red color', 'speed': 25, 'battery': 'Amaron'}\n"
          ]
        }
      ]
    },
    {
      "cell_type": "code",
      "source": [
        "'''4) Demonstrate polymorphism by creating a base class Bird with a method fly(). Create two derived classes\n",
        "Sparrow and Penguin that override the fly() method.'''\n",
        "\n",
        "#Polymorphism means a method call like fly() behaves differently based on the actual object type.\n",
        "\n",
        "class Bird():\n",
        "  def fly(self):\n",
        "    return \"Birds can fly\"\n",
        "class Sparrow(Bird):\n",
        "  def fly(self):\n",
        "    return \"sparrow is a bird and it can fly\"\n",
        "class Penguin(Bird):\n",
        "  def fly(self):\n",
        "    return \"Penguin is a bird and it cannot fly\"\n",
        "\n",
        "obj1=Bird()\n",
        "obj2=Sparrow()\n",
        "obj3=Penguin()\n",
        "\n",
        "print(obj2.fly())\n",
        "print(obj3.fly())"
      ],
      "metadata": {
        "colab": {
          "base_uri": "https://localhost:8080/"
        },
        "id": "mhsirkQN40jG",
        "outputId": "c557d4c2-a649-4297-d4fd-acf3de66108a"
      },
      "execution_count": null,
      "outputs": [
        {
          "output_type": "stream",
          "name": "stdout",
          "text": [
            "sparrow is a bird and it can fly\n",
            "Penguin is a bird and it cannot fly\n"
          ]
        }
      ]
    },
    {
      "cell_type": "code",
      "source": [
        "'''5) Write a program to demonstrate encapsulation by creating a class BankAccount with private attributes\n",
        "balance and methods to deposit, withdraw, and check balance.'''\n",
        "\n",
        "class BankAccount():\n",
        "  def __init__(self,balance):\n",
        "    self.__balance=balance\n",
        "    print(\"the current balance is Rs.\",self.__balance,\"/-\")\n",
        "  def deposit(self):\n",
        "    deposited_amount=int(input(\"pass the amount to be deposited \"))\n",
        "    self.__balance=self.__balance+deposited_amount\n",
        "    print(\"the total balance after adding the amount is Rs.\",self.__balance,\"/-\")\n",
        "\n",
        "    return self.__balance\n",
        "\n",
        "  def withdraw(self):\n",
        "    withdraw_amount=int(input(\"enter the amount to be withdrawn \"))\n",
        "    if withdraw_amount>self.__balance:\n",
        "      print(\"insufficient funds\")\n",
        "    else:\n",
        "      self.__balance=self.__balance-withdraw_amount\n",
        "      print(\"after withdraw the amount is Rs.\",self.__balance,\"/-\")\n",
        "    return self.__balance\n",
        "  def get_balance(self):\n",
        "    print(\"The updated balance after withdrawal amount is Rs.\",self.__balance,\"/-\")\n",
        "\n",
        "\n",
        "obj=BankAccount(900)\n",
        "obj.deposit()\n",
        "obj.withdraw()\n",
        "obj.get_balance()\n",
        "\n",
        "\n",
        "\n",
        "\n",
        "\n"
      ],
      "metadata": {
        "colab": {
          "base_uri": "https://localhost:8080/"
        },
        "id": "vJfHDHB-7Ar8",
        "outputId": "a5c7fa0d-4b34-4f91-cca0-71edc2457602"
      },
      "execution_count": null,
      "outputs": [
        {
          "output_type": "stream",
          "name": "stdout",
          "text": [
            "the current balance is Rs. 900 /-\n",
            "pass the amount to be deposited 300\n",
            "the total balance after adding the amount is Rs. 1200 /-\n",
            "enter the amount to be withdrawn 200\n",
            "after withdraw the amount is Rs. 1000 /-\n",
            "The updated balance after withdrawal amount is Rs. 1000 /-\n"
          ]
        }
      ]
    },
    {
      "cell_type": "code",
      "source": [
        "'''6)  Demonstrate runtime polymorphism using a method play() in a base class Instrument. Derive classes Guitar\n",
        "and Piano that implement their own version of play().'''\n",
        "\n",
        "class Instrument():\n",
        "  def play(self):\n",
        "    a=input(\"Play here related to instrument \")\n",
        "    return a\n",
        "class Guitar(Instrument):\n",
        "  def play(self):\n",
        "    a=input(\"Play here related to Guitar instrument \")\n",
        "    return a\n",
        "class Piano(Instrument):\n",
        "  def play(self):\n",
        "    a=input(\"Play here related to Piano instrument \")\n",
        "    return a\n",
        "obj=Instrument()\n",
        "obj_Guitar=Guitar()\n",
        "print(obj_Guitar.play())\n",
        "obj_Piano=Piano()\n",
        "print(obj_Piano.play())\n",
        "\n"
      ],
      "metadata": {
        "colab": {
          "base_uri": "https://localhost:8080/"
        },
        "id": "jl49hkPHMJHO",
        "outputId": "51f2c455-bced-4df5-b3bd-f7d82ca08dac"
      },
      "execution_count": null,
      "outputs": [
        {
          "output_type": "stream",
          "name": "stdout",
          "text": [
            "Play here related to Guitar instrument Guitar is playing: strum strum\n",
            "Guitar is playing: strum strum\n",
            "Play here related to Piano instrument Piano is playing: plink plink\n",
            "Piano is playing: plink plink\n"
          ]
        }
      ]
    },
    {
      "cell_type": "code",
      "source": [
        "'''7) Create a class MathOperations with a class method add_numbers() to add two numbers and a static\n",
        "method subtract_numbers() to subtract two numbers.'''\n",
        "\n",
        "class MathOperations():\n",
        "  a=int(input(\"Enter any number here \"))\n",
        "  b=int(input(\"Enter any number here \"))\n",
        "\n",
        "  @classmethod\n",
        "  def add_numbers(cls):\n",
        "    return f\"the addition of {cls.a} and {cls.b} is \",cls.a+cls.b\n",
        "\n",
        "  @staticmethod\n",
        "  def subtract_numbers():\n",
        "    a=int(input(\"Enter any number here \"))\n",
        "    b=int(input(\"Enter any number here \"))\n",
        "    return f\"the subtraction of {a} and {b} is \",a-b\n",
        "\n",
        "print(MathOperations.add_numbers())\n",
        "print(MathOperations.subtract_numbers())\n",
        "\n",
        "\n"
      ],
      "metadata": {
        "colab": {
          "base_uri": "https://localhost:8080/"
        },
        "id": "_nDlRgJGPBf3",
        "outputId": "4f3dad14-79c1-4e57-eff1-093b66ffbfb6"
      },
      "execution_count": null,
      "outputs": [
        {
          "output_type": "stream",
          "name": "stdout",
          "text": [
            "Enter any number here 6\n",
            "Enter any number here 6\n",
            "('the addition of 6 and 6 is ', 12)\n",
            "Enter any number here 6\n",
            "Enter any number here 3\n",
            "('the subtraction of 6 and 3 is ', 3)\n"
          ]
        }
      ]
    },
    {
      "cell_type": "code",
      "source": [
        "# 8)  Implement a class Person with a class method to count the total number of persons created.\n",
        "\n",
        "class Person:\n",
        "    _instances = []\n",
        "\n",
        "    def __init__(self):\n",
        "        type(self)._instances.append(self)\n",
        "\n",
        "    @classmethod\n",
        "    def total_persons(cls):\n",
        "        return len(cls._instances)\n",
        "\n",
        "obj1=Person()\n",
        "obj2=Person()\n",
        "obj3=Person()\n",
        "obj1.total_persons()"
      ],
      "metadata": {
        "id": "5PAcFRU3RrAV",
        "colab": {
          "base_uri": "https://localhost:8080/"
        },
        "outputId": "cabbb01b-0070-45ba-ec40-61684a8829ca"
      },
      "execution_count": null,
      "outputs": [
        {
          "output_type": "execute_result",
          "data": {
            "text/plain": [
              "3"
            ]
          },
          "metadata": {},
          "execution_count": 14
        }
      ]
    },
    {
      "cell_type": "code",
      "source": [
        "'''9) Write a class Fraction with attributes numerator and denominator. Override the str method to display the\n",
        "fraction as \"numerator/denominator\".'''\n",
        "\n",
        "class Fraction():\n",
        "  def __init__(self,numerator,denominator):\n",
        "    self.numerator=numerator\n",
        "    self.denominator=denominator\n",
        "  def fraction(self):\n",
        "    fraction=self.numerator/self.denominator\n",
        "    return fraction\n",
        "  def fraction(self):\n",
        "    fraction=\"numerator/denominator\"\n",
        "    return fraction\n",
        "\n",
        "\n",
        "obj=Fraction(1,2)\n",
        "obj.fraction()"
      ],
      "metadata": {
        "colab": {
          "base_uri": "https://localhost:8080/",
          "height": 35
        },
        "id": "x-lbSR4utHUv",
        "outputId": "d1202779-e83f-4e40-a169-bbd2b8855cfc"
      },
      "execution_count": null,
      "outputs": [
        {
          "output_type": "execute_result",
          "data": {
            "text/plain": [
              "'numerator/denominator'"
            ],
            "application/vnd.google.colaboratory.intrinsic+json": {
              "type": "string"
            }
          },
          "metadata": {},
          "execution_count": 20
        }
      ]
    },
    {
      "cell_type": "code",
      "source": [
        "# 10) Demonstrate operator overloading by creating a class Vector and overriding the add method to add two vectors.\n",
        "class Vector:\n",
        "    def __init__(self, x, y):\n",
        "        self.x = x\n",
        "        self.y = y\n",
        "\n",
        "    def __add__(self, other):\n",
        "        if not isinstance(other, Vector):\n",
        "            return NotImplemented\n",
        "        return Vector(self.x + other.x, self.y + other.y)\n",
        "\n",
        "    def __repr__(self):\n",
        "        return f\"Vector({self.x}, {self.y})\"\n",
        "\n",
        "v1 = Vector(1, 2)\n",
        "v2 = Vector(3, 4)\n",
        "result = v1 + v2\n",
        "print(result)\n",
        "\n"
      ],
      "metadata": {
        "colab": {
          "base_uri": "https://localhost:8080/"
        },
        "id": "It_DJxT9vxs5",
        "outputId": "40ff06de-725e-4f91-f25c-2510576db2b9"
      },
      "execution_count": null,
      "outputs": [
        {
          "output_type": "stream",
          "name": "stdout",
          "text": [
            "Vector(4, 6)\n"
          ]
        }
      ]
    },
    {
      "cell_type": "code",
      "source": [
        "'''11) Create a class Person with attributes name and age. Add a method greet() that prints \"Hello, my name is\n",
        "{name} and I am {age} years old.\"'''\n",
        "\n",
        "class Person:\n",
        "  def __init__(self,name,age):\n",
        "    self.name=name\n",
        "    self.age=age\n",
        "  def greet(self):\n",
        "    print(f\"Hello, my name is {self.name} and I am {self.age} years old.\")\n",
        "obj=Person('SHAIK MOULALI',25)\n",
        "obj.greet()"
      ],
      "metadata": {
        "colab": {
          "base_uri": "https://localhost:8080/"
        },
        "id": "MP9UuPAXxJWW",
        "outputId": "0b70cb6a-1940-40d0-f3af-833d576e649c"
      },
      "execution_count": null,
      "outputs": [
        {
          "output_type": "stream",
          "name": "stdout",
          "text": [
            "Hello, my name is SHAIK MOULALI and I am 25 years old.\n"
          ]
        }
      ]
    },
    {
      "cell_type": "code",
      "source": [
        "'''12) Implement a class Student with attributes name and grades. Create a method average_grade() to compute\n",
        "the average of the grades.'''\n",
        "\n",
        "class Student():\n",
        "  def __init__(self,name,grade1,grade2,grade3):\n",
        "    self.name=name\n",
        "    self.grade1=grade1\n",
        "    self.grade2=grade2\n",
        "    self.grade3=grade3\n",
        "\n",
        "  def average_grade(self):\n",
        "    avg_grade= (self.grade1+self.grade2+self.grade3)/3\n",
        "    return avg_grade\n",
        "\n",
        "obj=Student(\"shaik Moulali\",9,7,8)\n",
        "print(f\"average grade of {obj.name} is \",obj.average_grade())\n",
        "\n",
        "\n",
        "# or if you want the more grades in the list check below example\n",
        "\n",
        "class Student():\n",
        "  def __init__(self,name,grades):\n",
        "    self.name=name\n",
        "    self.grades=grades\n",
        "\n",
        "  def average_grade(self):\n",
        "    avg_grade= sum(self.grades)/len(self.grades)\n",
        "    return avg_grade\n",
        "\n",
        "obj=Student(\"shaik moulali\",[7,8,9])\n",
        "print(f\"average grade of {obj.name} is \",obj.average_grade())\n"
      ],
      "metadata": {
        "colab": {
          "base_uri": "https://localhost:8080/"
        },
        "id": "zGE51rlexw5K",
        "outputId": "d70cb11d-591a-477f-c5e6-6ed61ef1c8b7"
      },
      "execution_count": null,
      "outputs": [
        {
          "output_type": "stream",
          "name": "stdout",
          "text": [
            "average grade of shaik Moulali is  8.0\n",
            "average grade of shaik moulali is  8.0\n"
          ]
        }
      ]
    },
    {
      "cell_type": "code",
      "source": [
        "'''13)  Create a class Rectangle with methods set_dimensions() to set the dimensions and area() to calculate the\n",
        "area.'''\n",
        "\n",
        "class Rectangle():\n",
        "  def __init__(self,length=0,breadth=0):\n",
        "    self.lenth=length\n",
        "    self.breadth=breadth\n",
        "\n",
        "  def set_dimensions(self,length,breadth):\n",
        "    self.length=length\n",
        "    self.breadth=breadth\n",
        "\n",
        "  def area_of_rectange(self):\n",
        "    area=self.length*self.breadth\n",
        "    return area\n",
        "\n",
        "obj= Rectangle()\n",
        "obj.set_dimensions(2,2)\n",
        "print(\"the area of rectangle is \",obj.area_of_rectange(),\"sq.meters\")\n"
      ],
      "metadata": {
        "colab": {
          "base_uri": "https://localhost:8080/"
        },
        "id": "LzGKrRiq4StF",
        "outputId": "00ac58d0-a321-4e44-f9c8-e4d665a5e79f"
      },
      "execution_count": null,
      "outputs": [
        {
          "output_type": "stream",
          "name": "stdout",
          "text": [
            "the area of rectangle is  4 sq.meters\n"
          ]
        }
      ]
    },
    {
      "cell_type": "code",
      "source": [
        "'''14) Create a class Employee with a method calculate_salary() that computes the salary based on hours worked\n",
        "and hourly rate. Create a derived class Manager that adds a bonus to the salary'''\n",
        "\n",
        "class Employee():\n",
        "\n",
        "  def calculate_salary(self):\n",
        "    hourly_salary=100\n",
        "    hours_worked=int(input(\"enter the working hours \"))\n",
        "    total_salary=(30*hourly_salary*hours_worked)\n",
        "    return total_salary\n",
        "\n",
        "class Manager(Employee):\n",
        "  def bonus_salary(self):\n",
        "    base_salary=super().calculate_salary()\n",
        "    bonus=int(input(\"enter the bonus amount here\"))\n",
        "    salary_with_bonus=base_salary+bonus\n",
        "    return salary_with_bonus\n",
        "\n",
        "\n",
        "obj=Manager()\n",
        "print(f\"the total salary of an employee with bonus is Rs.\",obj.bonus_salary(),\"/-\")\n",
        "\n",
        "\n",
        "\n",
        "\n",
        "\n",
        "\n",
        "\n"
      ],
      "metadata": {
        "colab": {
          "base_uri": "https://localhost:8080/"
        },
        "id": "ZENEXhKB89Kw",
        "outputId": "96ecde94-f4a7-42d5-9b2e-0562d1470d08"
      },
      "execution_count": null,
      "outputs": [
        {
          "output_type": "stream",
          "name": "stdout",
          "text": [
            "enter the working hours 7\n",
            "enter the bonus amount here2000\n",
            "the total salary of an employee with bonus is Rs. 23000 /-\n"
          ]
        }
      ]
    },
    {
      "cell_type": "code",
      "source": [
        "'''15) Create a class Product with attributes name, price, and quantity. Implement a method total_price() that\n",
        "calculates the total price of the product.'''\n",
        "\n",
        "class Product():\n",
        "\n",
        "  def __init__(self,name,price,quantity):\n",
        "    self.name=name\n",
        "    self.price=price\n",
        "    self.quantity=quantity\n",
        "  def total_price(self):\n",
        "    total_price=self.price*self.quantity\n",
        "    return total_price\n",
        "obj=Product(\"python notes\",230,2)\n",
        "print(f\"the total price of a python book product is Rs.\",obj.total_price(),\"/-\")\n",
        "\n"
      ],
      "metadata": {
        "colab": {
          "base_uri": "https://localhost:8080/"
        },
        "id": "u-5QlBTnBuo5",
        "outputId": "f2c4076c-776c-4900-d00a-d4bd03187030"
      },
      "execution_count": null,
      "outputs": [
        {
          "output_type": "stream",
          "name": "stdout",
          "text": [
            "the total price of a python book product is Rs. 460 /-\n"
          ]
        }
      ]
    },
    {
      "cell_type": "code",
      "source": [
        "'''16)  Create a class Animal with an abstract method sound(). Create two derived classes Cow and Sheep that\n",
        "implement the sound() method.'''\n",
        "\n",
        "from abc import abstractmethod\n",
        "class Animal():\n",
        "  @abstractmethod\n",
        "  def sound(self):\n",
        "    pass\n",
        "class Cow(Animal):\n",
        "  def sound(self):\n",
        "    return \"moo.....!\"\n",
        "\n",
        "class Sheep(Animal):\n",
        "  def sound(self):\n",
        "    return \"Baa.....!\"\n",
        "obj_cow=Cow()\n",
        "obj_sheep=Sheep()\n",
        "print(\"The sound of a cow is \",obj_cow.sound())\n",
        "print(\"The sound of a sheep is \",obj_sheep.sound())\n",
        "\n",
        "\n",
        "\n"
      ],
      "metadata": {
        "colab": {
          "base_uri": "https://localhost:8080/"
        },
        "id": "wGRDOPAJC-21",
        "outputId": "3aa67d66-2f29-4e04-a84f-a4c4e1391813"
      },
      "execution_count": null,
      "outputs": [
        {
          "output_type": "stream",
          "name": "stdout",
          "text": [
            "The sound of a cow is  moo.....!\n",
            "The sound of a sheep is  Baa.....!\n"
          ]
        }
      ]
    },
    {
      "cell_type": "code",
      "source": [
        "'''17) Create a class Book with attributes title, author, and year_published. Add a method get_book_info() that\n",
        "returns a formatted string with the book's details.'''\n",
        "\n",
        "class Book():\n",
        "  def __init__(self,title,author,year_published):\n",
        "    self.title=title\n",
        "    self.author=author\n",
        "    self.year_published=year_published\n",
        "  def get_book_info(self):\n",
        "    a=print(f\"The title of the book is {self.title} and author name is {self.author}. and published year is {self.year_published}\")\n",
        "    return a\n",
        "\n",
        "obj=Book(\"The Lord of the Rings\",\"Shaik Moulali\",2021)\n",
        "obj.get_book_info()\n",
        "\n"
      ],
      "metadata": {
        "colab": {
          "base_uri": "https://localhost:8080/"
        },
        "id": "2N3JNNEEEvnK",
        "outputId": "7ff91921-de4e-4aaf-c0f7-147b588a8182"
      },
      "execution_count": null,
      "outputs": [
        {
          "output_type": "stream",
          "name": "stdout",
          "text": [
            "The title of the book is The Lord of the Rings and author name is Shaik Moulali. and published year is 2021\n"
          ]
        }
      ]
    },
    {
      "cell_type": "code",
      "source": [
        "'''18)Create a class House with attributes address and price. Create a derived class Mansion that adds an\n",
        "attribute number_of_rooms.'''\n",
        "\n",
        "class House:\n",
        "  def __init__(self,address,price):\n",
        "    self.address=address\n",
        "    self.price=price\n",
        "\n",
        "class Mansion(House):\n",
        "\n",
        "  def __init__(self,number_of_rooms,address,price):\n",
        "    super().__init__(address,price)\n",
        "    self.number_of_rooms=number_of_rooms\n",
        "\n",
        "obj_house=House(\"Vijayawada city\",4500000)\n",
        "obj_mansion=Mansion(4,\"Vijayawada city\",5500000)\n",
        "print(\"The address of the house is \",obj_mansion.address)\n",
        "print(\"the total number of rooms in a house is \",obj_mansion.number_of_rooms)\n",
        "print(\"The price of the house is \",obj_mansion.price)\n",
        "\n",
        "\n",
        "\n",
        "\n"
      ],
      "metadata": {
        "colab": {
          "base_uri": "https://localhost:8080/"
        },
        "id": "n2LffaePGP1Q",
        "outputId": "70e3b548-5a94-432d-d644-7ec1e2c77746"
      },
      "execution_count": null,
      "outputs": [
        {
          "output_type": "stream",
          "name": "stdout",
          "text": [
            "The address of the house is  Vijayawada city\n",
            "the total number of rooms in a house is  4\n",
            "The price of the house is  5500000\n"
          ]
        }
      ]
    }
  ]
}